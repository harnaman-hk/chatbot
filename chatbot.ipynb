{
  "nbformat": 4,
  "nbformat_minor": 0,
  "metadata": {
    "colab": {
      "name": "chatbot",
      "provenance": [],
      "collapsed_sections": []
    },
    "kernelspec": {
      "name": "python3",
      "display_name": "Python 3"
    }
  },
  "cells": [
    {
      "cell_type": "markdown",
      "metadata": {
        "id": "Mc-f7iT3scV0"
      },
      "source": [
        "Installations"
      ]
    },
    {
      "cell_type": "code",
      "metadata": {
        "colab": {
          "base_uri": "https://localhost:8080/"
        },
        "id": "1b5Pl3XosVol",
        "outputId": "0a15f9da-bb45-457d-d2c1-e4a3ef21c661"
      },
      "source": [
        "pip install python-telegram-bot --upgrade"
      ],
      "execution_count": null,
      "outputs": [
        {
          "output_type": "stream",
          "text": [
            "Collecting python-telegram-bot\n",
            "\u001b[?25l  Downloading https://files.pythonhosted.org/packages/cc/b3/f363e9c5c2e4690a1fd352c01263eb2938952888c09d73c824b49d288dcc/python_telegram_bot-13.1-py3-none-any.whl (422kB)\n",
            "\u001b[K     |████████████████████████████████| 430kB 5.3MB/s \n",
            "\u001b[?25hCollecting APScheduler==3.6.3\n",
            "\u001b[?25l  Downloading https://files.pythonhosted.org/packages/f3/34/9ef20ed473c4fd2c3df54ef77a27ae3fc7500b16b192add4720cab8b2c09/APScheduler-3.6.3-py2.py3-none-any.whl (58kB)\n",
            "\u001b[K     |████████████████████████████████| 61kB 6.3MB/s \n",
            "\u001b[?25hRequirement already satisfied, skipping upgrade: certifi in /usr/local/lib/python3.6/dist-packages (from python-telegram-bot) (2020.12.5)\n",
            "Requirement already satisfied, skipping upgrade: tornado>=5.1 in /usr/local/lib/python3.6/dist-packages (from python-telegram-bot) (5.1.1)\n",
            "Requirement already satisfied, skipping upgrade: pytz>=2018.6 in /usr/local/lib/python3.6/dist-packages (from python-telegram-bot) (2018.9)\n",
            "Collecting cryptography\n",
            "\u001b[?25l  Downloading https://files.pythonhosted.org/packages/c9/de/7054df0620b5411ba45480f0261e1fb66a53f3db31b28e3aa52c026e72d9/cryptography-3.3.1-cp36-abi3-manylinux2010_x86_64.whl (2.6MB)\n",
            "\u001b[K     |████████████████████████████████| 2.6MB 8.1MB/s \n",
            "\u001b[?25hRequirement already satisfied, skipping upgrade: decorator>=4.4.0 in /usr/local/lib/python3.6/dist-packages (from python-telegram-bot) (4.4.2)\n",
            "Requirement already satisfied, skipping upgrade: tzlocal>=1.2 in /usr/local/lib/python3.6/dist-packages (from APScheduler==3.6.3->python-telegram-bot) (1.5.1)\n",
            "Requirement already satisfied, skipping upgrade: six>=1.4.0 in /usr/local/lib/python3.6/dist-packages (from APScheduler==3.6.3->python-telegram-bot) (1.15.0)\n",
            "Requirement already satisfied, skipping upgrade: setuptools>=0.7 in /usr/local/lib/python3.6/dist-packages (from APScheduler==3.6.3->python-telegram-bot) (51.0.0)\n",
            "Requirement already satisfied, skipping upgrade: cffi>=1.12 in /usr/local/lib/python3.6/dist-packages (from cryptography->python-telegram-bot) (1.14.4)\n",
            "Requirement already satisfied, skipping upgrade: pycparser in /usr/local/lib/python3.6/dist-packages (from cffi>=1.12->cryptography->python-telegram-bot) (2.20)\n",
            "Installing collected packages: APScheduler, cryptography, python-telegram-bot\n",
            "Successfully installed APScheduler-3.6.3 cryptography-3.3.1 python-telegram-bot-13.1\n"
          ],
          "name": "stdout"
        }
      ]
    },
    {
      "cell_type": "markdown",
      "metadata": {
        "id": "AXH_k2OmtBvm"
      },
      "source": [
        "Imports"
      ]
    },
    {
      "cell_type": "code",
      "metadata": {
        "id": "vsPJrF9ttHyT"
      },
      "source": [
        "import os\n",
        "import logging\n",
        "import random\n",
        "import secrets\n",
        "from telegram.ext import Updater, MessageHandler, CommandHandler, Filters\n",
        "from telegram import ParseMode"
      ],
      "execution_count": null,
      "outputs": []
    },
    {
      "cell_type": "markdown",
      "metadata": {
        "id": "LR8FzTdOtfOL"
      },
      "source": [
        "This is the bot secret key -- HIGHLY CONFIDENTIAL"
      ]
    },
    {
      "cell_type": "code",
      "metadata": {
        "id": "RDR4WHGvtbzQ"
      },
      "source": [
        "TOKEN = os.environ.get(\"CHATBOT_TOKEN\")"
      ],
      "execution_count": null,
      "outputs": []
    },
    {
      "cell_type": "code",
      "metadata": {
        "id": "ICJZbgC8tvaC"
      },
      "source": [
        "def start(update, context):\n",
        "    welcome_text = \"Hey! This is just the beginning.\\nAs of now I'm good for nothing so I'll just resend whatever messages you send me XD\"\n",
        "    context.bot.send_message(\n",
        "        chat_id = update.effective_chat.id, text = welcome_text\n",
        "    )"
      ],
      "execution_count": null,
      "outputs": []
    },
    {
      "cell_type": "code",
      "metadata": {
        "id": "ri_ki44exDPP"
      },
      "source": [
        "def echo(update, context):\n",
        "    echo_back = update.message.text \n",
        "    context.bot.send_message(\n",
        "        chat_id = update.effective_chat.id, text= echo_back\n",
        "    )"
      ],
      "execution_count": null,
      "outputs": []
    },
    {
      "cell_type": "code",
      "metadata": {
        "colab": {
          "base_uri": "https://localhost:8080/"
        },
        "id": "53GjcnM1xKLP",
        "outputId": "0848869a-7439-451c-934f-a9f4b4820292"
      },
      "source": [
        "if __name__ == \"__main__\":\n",
        "    updater = Updater(token = TOKEN, use_context=True)\n",
        "    dispatcher = updater.dispatcher\n",
        "    logging.basicConfig(format='%(asctime)s - %(name)s - %(levelname)s - %(message)s', level=logging.INFO)\n",
        "\n",
        "    # intialise handlers\n",
        "    start_handler = CommandHandler('start', start)\n",
        "    dispatcher.add_handler(start_handler)\n",
        "\n",
        "    echo_handler = MessageHandler( Filters.text & (~Filters.command), echo)\n",
        "    dispatcher.add_handler(echo_handler)\n",
        "\n",
        "    updater.start_polling()\n",
        "    updater.idle()"
      ],
      "execution_count": null,
      "outputs": [
        {
          "output_type": "stream",
          "text": [
            "2021-01-05 15:59:57,184 - apscheduler.scheduler - INFO - Scheduler started\n"
          ],
          "name": "stderr"
        }
      ]
    }
  ]
}